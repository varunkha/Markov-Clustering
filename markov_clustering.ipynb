{
 "cells": [
  {
   "cell_type": "code",
   "execution_count": 1,
   "metadata": {
    "collapsed": true
   },
   "outputs": [],
   "source": [
    "#All the imports & pyplot inline setting\n",
    "import numpy as np\n",
    "import pandas as pd"
   ]
  },
  {
   "cell_type": "code",
   "execution_count": 2,
   "metadata": {
    "collapsed": true
   },
   "outputs": [],
   "source": [
    "#Input parameters\n",
    "n_file='physics_collaboration_net.txt'\n",
    "n_file_net = 'physics_collaboration_net.net'\n",
    "n_power = 2\n",
    "n_inflation = 1.27\n",
    "#n_file='attweb_net.txt'\n",
    "#n_file_net='attweb_net.net'\n",
    "#n_power = 2\n",
    "#n_inflation = 1.35\n",
    "#n_file='yeast_undirected_metabolic.txt'\n",
    "#n_file_net='yeast_undirected_metabolic.net'\n",
    "#n_power = 2\n",
    "#n_inflation = 1.205"
   ]
  },
  {
   "cell_type": "code",
   "execution_count": 4,
   "metadata": {
    "collapsed": false
   },
   "outputs": [],
   "source": [
    "#Process net file to get vertice order in dictionary res\n",
    "with open(n_file_net) as f:\n",
    "    content = f.readlines()\n",
    "out = []\n",
    "for i,data in enumerate(content):\n",
    "    if data.startswith('*Vertices'):\n",
    "        continue\n",
    "    if data.startswith('*Edges'):\n",
    "        break\n",
    "    out.append(data.replace('\\\"','').split())\n",
    "df = pd.DataFrame(out)\n",
    "df = df[[0,1]]\n",
    "a = df.to_dict()[1]\n",
    "res = dict((v,k) for k,v in a.iteritems())"
   ]
  },
  {
   "cell_type": "code",
   "execution_count": 5,
   "metadata": {
    "collapsed": false
   },
   "outputs": [],
   "source": [
    "#Process input file and created normalised adjacency list\n",
    "n_data = df.shape[0]\n",
    "df = pd.read_csv(n_file,header=None,delim_whitespace=True,dtype={0: object, 1: object})\n",
    "df[0] = df[0].astype('object')\n",
    "df[1] = df[1].astype('object')\n",
    "adjacency_matrix = np.zeros((n_data,n_data))\n",
    "np.fill_diagonal(adjacency_matrix,1)\n",
    "for i in range(df.shape[0]):\n",
    "    j = res[df.loc[i][0]]\n",
    "    k = res[df.loc[i][1]]\n",
    "    adjacency_matrix[j][k] = 1\n",
    "    adjacency_matrix[k][j] = 1\n",
    "old = adjacency_matrix\n",
    "new = np.divide(adjacency_matrix,np.sum(adjacency_matrix, axis=0))"
   ]
  },
  {
   "cell_type": "code",
   "execution_count": 6,
   "metadata": {
    "collapsed": false
   },
   "outputs": [],
   "source": [
    "#Alternate expansion and inflation\n",
    "i=0\n",
    "while(not (old==new).all() and i<=1000):\n",
    "    old = new\n",
    "    new = np.linalg.matrix_power(new, n_power)\n",
    "    new = np.power(new, n_inflation)\n",
    "    new = np.divide(new,np.sum(new, axis=0))\n",
    "    #new = new.round(3)\n",
    "    i = i + 1"
   ]
  },
  {
   "cell_type": "code",
   "execution_count": 7,
   "metadata": {
    "collapsed": false
   },
   "outputs": [
    {
     "data": {
      "text/plain": [
       "55"
      ]
     },
     "execution_count": 7,
     "metadata": {},
     "output_type": "execute_result"
    }
   ],
   "source": [
    "#Check no of iterations required to merge\n",
    "i"
   ]
  },
  {
   "cell_type": "code",
   "execution_count": 8,
   "metadata": {
    "collapsed": false
   },
   "outputs": [
    {
     "data": {
      "text/plain": [
       "[array([ 0,  1,  2,  3, 80, 84, 85, 86], dtype=int64),\n",
       " array([  4,   5,   6,   7,   8,   9,  10,  11,  12,  13,  14,  72,  73,\n",
       "         74,  75,  76, 110, 111, 112, 113, 114, 124, 130, 140, 141], dtype=int64),\n",
       " array([ 22,  25,  27,  28,  29,  30,  31,  32,  33,  34,  35,  36,  37,\n",
       "         38,  39,  40,  41,  42,  43,  44,  45,  46,  47,  48,  49,  50,\n",
       "         51,  52,  53,  54,  55,  56,  57,  58,  59,  60,  61,  62,  63,\n",
       "         64,  65,  66,  81,  82,  83,  87,  88,  89,  90,  91,  92,  93,\n",
       "         94,  95,  96,  97,  98,  99, 100, 101, 102, 103, 104, 107, 115,\n",
       "        116, 125, 134, 135, 139], dtype=int64),\n",
       " array([ 77,  78,  79, 117, 118, 119, 120, 121], dtype=int64),\n",
       " array([ 15,  16,  17,  18,  19,  20,  21,  23,  24,  26,  67,  68,  69,\n",
       "         70,  71, 105, 106, 108, 109, 122, 123, 126, 127, 128, 129, 131,\n",
       "        132, 133, 136, 137, 138], dtype=int64)]"
      ]
     },
     "execution_count": 8,
     "metadata": {},
     "output_type": "execute_result"
    }
   ],
   "source": [
    "#Generate Clusters\n",
    "clusters = []\n",
    "for i in range(n_data):\n",
    "    if((new[i]>0).any()):\n",
    "        clusters.append(np.nonzero(new[i])[0])\n",
    "clusters"
   ]
  },
  {
   "cell_type": "code",
   "execution_count": 9,
   "metadata": {
    "collapsed": false
   },
   "outputs": [
    {
     "data": {
      "text/plain": [
       "array([[1],\n",
       "       [1],\n",
       "       [1],\n",
       "       [1],\n",
       "       [2],\n",
       "       [2],\n",
       "       [2],\n",
       "       [2],\n",
       "       [2],\n",
       "       [2],\n",
       "       [2],\n",
       "       [2],\n",
       "       [2],\n",
       "       [2],\n",
       "       [2],\n",
       "       [5],\n",
       "       [5],\n",
       "       [5],\n",
       "       [5],\n",
       "       [5],\n",
       "       [5],\n",
       "       [5],\n",
       "       [3],\n",
       "       [5],\n",
       "       [5],\n",
       "       [3],\n",
       "       [5],\n",
       "       [3],\n",
       "       [3],\n",
       "       [3],\n",
       "       [3],\n",
       "       [3],\n",
       "       [3],\n",
       "       [3],\n",
       "       [3],\n",
       "       [3],\n",
       "       [3],\n",
       "       [3],\n",
       "       [3],\n",
       "       [3],\n",
       "       [3],\n",
       "       [3],\n",
       "       [3],\n",
       "       [3],\n",
       "       [3],\n",
       "       [3],\n",
       "       [3],\n",
       "       [3],\n",
       "       [3],\n",
       "       [3],\n",
       "       [3],\n",
       "       [3],\n",
       "       [3],\n",
       "       [3],\n",
       "       [3],\n",
       "       [3],\n",
       "       [3],\n",
       "       [3],\n",
       "       [3],\n",
       "       [3],\n",
       "       [3],\n",
       "       [3],\n",
       "       [3],\n",
       "       [3],\n",
       "       [3],\n",
       "       [3],\n",
       "       [3],\n",
       "       [5],\n",
       "       [5],\n",
       "       [5],\n",
       "       [5],\n",
       "       [5],\n",
       "       [2],\n",
       "       [2],\n",
       "       [2],\n",
       "       [2],\n",
       "       [2],\n",
       "       [4],\n",
       "       [4],\n",
       "       [4],\n",
       "       [1],\n",
       "       [3],\n",
       "       [3],\n",
       "       [3],\n",
       "       [1],\n",
       "       [1],\n",
       "       [1],\n",
       "       [3],\n",
       "       [3],\n",
       "       [3],\n",
       "       [3],\n",
       "       [3],\n",
       "       [3],\n",
       "       [3],\n",
       "       [3],\n",
       "       [3],\n",
       "       [3],\n",
       "       [3],\n",
       "       [3],\n",
       "       [3],\n",
       "       [3],\n",
       "       [3],\n",
       "       [3],\n",
       "       [3],\n",
       "       [3],\n",
       "       [5],\n",
       "       [5],\n",
       "       [3],\n",
       "       [5],\n",
       "       [5],\n",
       "       [2],\n",
       "       [2],\n",
       "       [2],\n",
       "       [2],\n",
       "       [2],\n",
       "       [3],\n",
       "       [3],\n",
       "       [4],\n",
       "       [4],\n",
       "       [4],\n",
       "       [4],\n",
       "       [4],\n",
       "       [5],\n",
       "       [5],\n",
       "       [2],\n",
       "       [3],\n",
       "       [5],\n",
       "       [5],\n",
       "       [5],\n",
       "       [5],\n",
       "       [2],\n",
       "       [5],\n",
       "       [5],\n",
       "       [5],\n",
       "       [3],\n",
       "       [3],\n",
       "       [5],\n",
       "       [5],\n",
       "       [5],\n",
       "       [3],\n",
       "       [2],\n",
       "       [2]])"
      ]
     },
     "execution_count": 9,
     "metadata": {},
     "output_type": "execute_result"
    }
   ],
   "source": [
    "#Create labels\n",
    "out_label = np.zeros((n_data,1), dtype=np.int)\n",
    "for i,data in enumerate(clusters):\n",
    "    for fine_data in data:\n",
    "        out_label[data] = i+1\n",
    "out_label"
   ]
  },
  {
   "cell_type": "code",
   "execution_count": 10,
   "metadata": {
    "collapsed": false
   },
   "outputs": [],
   "source": [
    "#Save clu file\n",
    "np.savetxt('physics_2_1.27.clu',out_label,fmt='%d',header='*vertices '+str(n_data),comments='')\n",
    "#np.savetxt('att_2_1.35.clu',out_label,fmt='%d',header='*vertices '+str(n_data),comments='')\n",
    "#np.savetxt('yeast_2_1.205.clu',out_label,fmt='%d',header='*vertices '+str(n_data),comments='')"
   ]
  },
  {
   "cell_type": "code",
   "execution_count": null,
   "metadata": {
    "collapsed": true
   },
   "outputs": [],
   "source": []
  }
 ],
 "metadata": {
  "anaconda-cloud": {},
  "kernelspec": {
   "display_name": "Python [Root]",
   "language": "python",
   "name": "Python [Root]"
  },
  "language_info": {
   "codemirror_mode": {
    "name": "ipython",
    "version": 2
   },
   "file_extension": ".py",
   "mimetype": "text/x-python",
   "name": "python",
   "nbconvert_exporter": "python",
   "pygments_lexer": "ipython2",
   "version": "2.7.12"
  }
 },
 "nbformat": 4,
 "nbformat_minor": 0
}
